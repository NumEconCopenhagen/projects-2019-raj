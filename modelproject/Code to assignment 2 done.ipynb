{
 "cells": [
  {
   "cell_type": "markdown",
   "metadata": {},
   "source": [
    "# Betrand model\n",
    "\n",
    "The Betrand model is often based on firms competing in an oligopoly (few companies) market with homogeneous products. Where the firms are setting the prices and the consumers are choosing a quantity based on the given price. \n",
    "\n",
    "The first part of the project will look at Betrand model with no cooperation between the two firms in the Model. This part will show that two firms set their prices equal to the marginal cost, and are therefor competing under perfect competition with zero profit.   \n",
    "\n",
    "We have the following assumptions in a Betrand model.\n",
    "\n",
    "•           At least two firms \n",
    "\n",
    "•           Firms produce a homogeneous product and cannot cooperate in any way\n",
    "\n",
    "•           Prices by the firms are set simultaneously\n",
    "\n",
    "•           The firms have the same constant marginal cost of c\n",
    "\n",
    "Secondly will the project look at a situation with collusion (cartel). Here will the two firms cooperate on the market and and set a price higher then the marginal cost. This part will therefor investigate what happen to the profit and welfare under cooperation.\n"
   ]
  },
  {
   "cell_type": "markdown",
   "metadata": {},
   "source": [
    "## Libraries and dataset"
   ]
  },
  {
   "cell_type": "code",
   "execution_count": 1,
   "metadata": {},
   "outputs": [],
   "source": [
    "#First we import the verious packages we use.  \n",
    "from scipy import optimize,arange\n",
    "from numpy import array\n",
    "import matplotlib.pyplot as plt\n",
    "%matplotlib inline"
   ]
  },
  {
   "cell_type": "markdown",
   "metadata": {},
   "source": [
    "### Defining the utility structure\n",
    "\n",
    "\n",
    "\n",
    "• the consumer can either buy one product or nothing at all\n",
    "\n",
    "• Consumer type n that buys a product at price p has the valuation n-p\n",
    "\n",
    "• The outside option is normalized at 0\n",
    "\n",
    "• The consumer only buys the product on the condition that n-p≥0\n"
   ]
  },
  {
   "cell_type": "markdown",
   "metadata": {},
   "source": [
    "### Defining the consumer"
   ]
  },
  {
   "cell_type": "code",
   "execution_count": 2,
   "metadata": {},
   "outputs": [],
   "source": [
    "# The arrange returns values within a given interval.\n",
    "# In below code, we return n = 100 consumers as n different types between 0 and 1\n",
    "consumer_types = arange(0.0,1,0.01) \n"
   ]
  },
  {
   "cell_type": "markdown",
   "metadata": {},
   "source": [
    "### Aggregated demand"
   ]
  },
  {
   "cell_type": "code",
   "execution_count": 3,
   "metadata": {},
   "outputs": [],
   "source": [
    "# First we define the utility function for the consumer.\n",
    "# The differnt consumers values the good from the two firms at price n, sold at price p.\n",
    "def utility(p,n): \n",
    "    return n-p\n",
    "\n",
    "# We now define when consumer n will buy the good based on utility obtained from a purchase.\n",
    "def buy(p,n):\n",
    "    if utility(p,n) >= 0:\n",
    "        buy = 1.0\n",
    "    else:\n",
    "        buy = 0.0  # Consumer will not buy if negative utility\n",
    "    return buy\n",
    "\n",
    "# Aggregated demand, based on individual utility calculation above.\n",
    "def agg_demand(p):\n",
    "    total_demand = [buy(p,n)/len(consumer_types) for n in consumer_types]\n",
    "    return sum(total_demand)"
   ]
  },
  {
   "cell_type": "markdown",
   "metadata": {},
   "source": [
    "### Profit function "
   ]
  },
  {
   "cell_type": "code",
   "execution_count": 4,
   "metadata": {},
   "outputs": [],
   "source": [
    "# We can now find the profit for firm 1\n",
    "# c1 determines marginal cost for Firm 1, p1 is price for good sold by Firm 1 and p2 is the price set by Firm 2.\n",
    "def profit(p1,p2,c1):\n",
    "    if p1 > p2:\n",
    "        profits = 0\n",
    "    elif p1 == p2:\n",
    "        profits = 0.5*agg_demand(p1)*(p1-c1)\n",
    "    else:\n",
    "        profits = agg_demand(p1)*(p1-c1)\n",
    "    return profits"
   ]
  },
  {
   "cell_type": "markdown",
   "metadata": {},
   "source": [
    "## Section 1 - Bertrand oligopoly\n",
    "\n",
    "\n",
    "In order to get the full profit, Firm 1 reacts to the price set by Firm 2, p2.\n",
    "\n",
    "Here we say that as long as the price set by Firm 2, p2, is higher than the production cost for Firm 1, c1, they will lower their price, p1, in order to get all sales and there by the full profit."
   ]
  },
  {
   "cell_type": "markdown",
   "metadata": {},
   "source": [
    "### Reaction functions"
   ]
  },
  {
   "cell_type": "code",
   "execution_count": 5,
   "metadata": {},
   "outputs": [],
   "source": [
    "# We set the price for Firm 1, p1, at 95% of potential profit (profit=price-cost), if Firm 1 sold at Firm 2's price p2 \n",
    "# as long as the price is still above marginal cost.\n",
    "def reaction(p2,c1):\n",
    "    if p2 > c1:\n",
    "        reaction = c1+0.95*(p2-c1)\n",
    "    else:\n",
    "        reaction = c1\n",
    "    return reaction"
   ]
  },
  {
   "cell_type": "markdown",
   "metadata": {},
   "source": [
    "But when Firm 1 lower the price, Firm 2 can no longer sell their good, why they react and then set their price at 95% of firm 1's and so on. The best strategy for each firm is setting the same prices p_1=p_2=p, which will be equal to the marginal cost => perfect competition. "
   ]
  },
  {
   "cell_type": "code",
   "execution_count": 6,
   "metadata": {},
   "outputs": [
    {
     "name": "stdout",
     "output_type": "stream",
     "text": [
      "[0.2 0.2]\n"
     ]
    }
   ],
   "source": [
    "# Reaction function, as the keep lowering prices.\n",
    "def all_reaction(p,c0):\n",
    "    return array(p)-array([reaction(p[1],c0[0]),reaction(p[0],c0[1])])\n",
    "\n",
    "c0 = [0.2,0.2]    # c1 = c2 = 0,2\n",
    "p0 = [1, 1]       # initial guess: p1 = p2 = 1\n",
    "\n",
    "final_price = optimize.fsolve(all_reaction, p0, args = (c0))\n",
    "print (final_price)"
   ]
  },
  {
   "cell_type": "markdown",
   "metadata": {},
   "source": [
    "We find that, when both firms keep lowering their price to go under the other, they end up with both of them selling at cost price. Two firms in Bertrand is therefore said to be enough to get perfectly competitive market.Suppose that the price announced by both firms is above marginal cost. Then firm_i   is not playing a “best response”, because given that firm_j has announced is above marginal cost. A best response will therefor for firm_i is to set a lower price to get all customers but still above or equal to MC. This leads to that the price will be equal marginal cost for both firms at the end, where the outcome will be a Nash equilibrium given both firms has played their best response.\n",
    "\n",
    "\n"
   ]
  },
  {
   "cell_type": "markdown",
   "metadata": {},
   "source": [
    "## Section 2 - Cartel\n",
    "But what if the two firms deside to coorporate and agree on a price, so that they share the market and the profit?\n",
    "This is called a <em>Cartel</em>, and is something we will look at now. "
   ]
  },
  {
   "cell_type": "markdown",
   "metadata": {},
   "source": [
    "### 2.1 Cartel profit function"
   ]
  },
  {
   "cell_type": "code",
   "execution_count": 7,
   "metadata": {},
   "outputs": [],
   "source": [
    "\n",
    "def cartel_profits(p,c):    # Again we assume symmetry: marginal cost is c1 = c2 = 0.2\n",
    "    profits = profit(p,p,c)\n",
    "    \n",
    "    if p >= c:\n",
    "        total_profits = agg_demand(p)*(p-c)\n",
    "    \n",
    "    else:\n",
    "        total_profits = 0   # Since the Firm will not produce with negative profit.\n",
    "        \n",
    "    return total_profits"
   ]
  },
  {
   "cell_type": "markdown",
   "metadata": {},
   "source": [
    "### 2.2 The distribution of profits, based on prices"
   ]
  },
  {
   "cell_type": "code",
   "execution_count": 8,
   "metadata": {},
   "outputs": [
    {
     "data": {
      "text/plain": [
       "(-0.025, 0.2)"
      ]
     },
     "execution_count": 8,
     "metadata": {},
     "output_type": "execute_result"
    },
    {
     "data": {
      "image/png": "[encoded data removed]",
      "text/plain": [
       "<Figure size 432x288 with 1 Axes>"
      ]
     },
     "metadata": {
      "needs_background": "light"
     },
     "output_type": "display_data"
    }
   ],
   "source": [
    "# If the Firms deside to collut and have marginal cost at 0.2, they get the following profit, depending on price.\n",
    "c = 0.2                     # Symmetry and fixed marginal cost\n",
    "range_p = arange(0,1,0.01)  # Range of prices between 0 and 1.\n",
    "\n",
    "range_profits = [cartel_profits(p,c) for p in range_p]\n",
    "range_c = [(0) for p in range_p]\n",
    "\n",
    "plt.clf()\n",
    "plt.plot(range_p, range_profits, color = 'red', linewidth = 3)\n",
    "plt.plot(range_p, range_c, color = 'blue', linewidth = 2)\n",
    "plt.title(\"Profits from Cartel\",fontsize = 15)\n",
    "plt.xlabel(\"price\",fontsize = 15)\n",
    "plt.ylabel(\"profits\",fontsize = 15,rotation = 90)\n",
    "plt.xlim(0,1.0)\n",
    "plt.ylim(-0.025,0.2)"
   ]
  },
  {
   "cell_type": "code",
   "execution_count": 9,
   "metadata": {},
   "outputs": [
    {
     "name": "stdout",
     "output_type": "stream",
     "text": [
      "Optimization terminated successfully.\n",
      "         Current function value: -0.159950\n",
      "         Iterations: 25\n",
      "         Function evaluations: 52\n",
      "[0.599875]\n"
     ]
    }
   ],
   "source": [
    "# Numerical analysis of optimal price/profit lalala\n",
    "def opt_price(range_p): \n",
    "    return  agg_demand(range_p)*(range_p-c)\n",
    "\n",
    "opt_p = optimize.fmin(lambda range_p: -opt_price(range_p), 0)\n",
    "print(opt_p)"
   ]
  },
  {
   "cell_type": "markdown",
   "metadata": {},
   "source": [
    "In the above figure “Profits from cartel” we see two graphs. The red graph indicates the profit for the Cartel and the blue indicates the firms profit when under perfect competition. We find in above code the maximum profit is 0,16 (since it is a minimizer funktion, and we wish to find maximum, the number is negative -0,159950) with a price on 0,6. We see that the cartel profit starts when they set a price over the marginal cost of the product as stated earlier. \n",
    "\n",
    "This is proven below.\n"
   ]
  },
  {
   "cell_type": "code",
   "execution_count": 10,
   "metadata": {},
   "outputs": [
    {
     "name": "stdout",
     "output_type": "stream",
     "text": [
      "Profit, when price is 0.6 =  0.16\n"
     ]
    }
   ],
   "source": [
    "# Checking that optimnal profit and price are true\n",
    "c = 0.2\n",
    "p_optimal = 0.6\n",
    "profit_optimal = agg_demand(p_optimal)*(p_optimal-c)\n",
    "\n",
    "print(\"Profit, when price is 0.6 = \", format(round(profit_optimal, 4)))"
   ]
  },
  {
   "cell_type": "markdown",
   "metadata": {},
   "source": [
    "## Section 3 - Social welfare"
   ]
  },
  {
   "cell_type": "markdown",
   "metadata": {},
   "source": [
    "In section 2.2, we saw that firms colluding set the price at 0.6 in order to optimize profit. But this means that only 40% of consumers, n > 0.60, will buy the good. A lot of trade is therefor not made. \n",
    "\n",
    "In this section we will determine that this is not efficient, seen from a welfare perspective.\n"
   ]
  },
  {
   "cell_type": "code",
   "execution_count": 11,
   "metadata": {},
   "outputs": [
    {
     "data": {
      "text/plain": [
       "(0.0, 1.0)"
      ]
     },
     "execution_count": 11,
     "metadata": {},
     "output_type": "execute_result"
    },
    {
     "data": {
      "image/png": "[encoded data removed]",
      "text/plain": [
       "<Figure size 432x288 with 1 Axes>"
      ]
     },
     "metadata": {
      "needs_background": "light"
     },
     "output_type": "display_data"
    }
   ],
   "source": [
    "# Here we synthesize the total utility and plot the utility distribution below\n",
    "def social_welfare(p):\n",
    "    welfare = sum([utility(c,n)*buy(p,n) for n in consumer_types])\n",
    "    return welfare\n",
    "\n",
    "range_w = [social_welfare(p) for p in range_p]\n",
    "\n",
    "plt.clf()\n",
    "plt.plot(range_p, range_w,'-', color = 'red', linewidth = 2)\n",
    "plt.title(\"Social welfare\",fontsize = 15)\n",
    "plt.xlabel(\"$price$\",fontsize = 15)\n",
    "plt.ylabel(\"$welfare$\",fontsize = 15)\n",
    "plt.xlim(0.0,1.0)"
   ]
  },
  {
   "cell_type": "markdown",
   "metadata": {},
   "source": [
    "We see that optimale welfare, where aggregated consumer utility is highest, is at price = 0.2 = marginal cost. \n",
    "\n",
    "We can therefor conclude that cartels are not effecient from a welfare point of view, but rise a profit for Firm in a Bertrand oligapoly, were profit otherwise would be zero, since such oligapoly work as if the market were perfect competition.\n"
   ]
  },
  {
   "cell_type": "code",
   "execution_count": 12,
   "metadata": {},
   "outputs": [
    {
     "name": "stdout",
     "output_type": "stream",
     "text": [
      "31.57\n",
      "31.6\n",
      "31.59\n"
     ]
    }
   ],
   "source": [
    "# Showing that optimal welfare is at price = 0.2\n",
    "print(format(round(social_welfare(0.18),5)))\n",
    "print(format(round(social_welfare(0.20),5)))\n",
    "print(format(round(social_welfare(0.22),5)))"
   ]
  },
  {
   "cell_type": "code",
   "execution_count": null,
   "metadata": {},
   "outputs": [],
   "source": []
  }
 ],
 "metadata": {
  "kernelspec": {
   "display_name": "Python 3",
   "language": "python",
   "name": "python3"
  },
  "language_info": {
   "codemirror_mode": {
    "name": "ipython",
    "version": 3
   },
   "file_extension": ".py",
   "mimetype": "text/x-python",
   "name": "python",
   "nbconvert_exporter": "python",
   "pygments_lexer": "ipython3",
   "version": "3.7.1"
  }
 },
 "nbformat": 4,
 "nbformat_minor": 2
}
